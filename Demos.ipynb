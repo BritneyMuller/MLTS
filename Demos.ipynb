{
 "cells": [
  {
   "cell_type": "code",
   "execution_count": 1,
   "metadata": {},
   "outputs": [],
   "source": [
    "from api import *"
   ]
  },
  {
   "cell_type": "markdown",
   "metadata": {},
   "source": [
    "## GSC Service"
   ]
  },
  {
   "cell_type": "code",
   "execution_count": null,
   "metadata": {},
   "outputs": [],
   "source": [
    "gsc_property = 'https://adaptpartners.com'\n",
    "days_back = 30\n",
    "\n",
    "df = gscservice.get_site_data(gsc_property, days_back, output_fn=\"demo2.csv\")\n",
    "df.head()"
   ]
  },
  {
   "cell_type": "markdown",
   "metadata": {},
   "source": [
    "## URL Extraction"
   ]
  },
  {
   "cell_type": "code",
   "execution_count": null,
   "metadata": {},
   "outputs": [],
   "source": [
    "\n",
    "url = 'https://adaptpartners.com/technical-seo/python-notebooks-connect-to-google-search-console-api-and-extract-data/'\n",
    "text, infos = extract_url_data(url)\n",
    "print('\\n')\n",
    "print(\"Title:\", infos['title'])\n",
    "print(\"H1:\", infos['h1'])\n",
    "print(\"Extracted Text:\", text)"
   ]
  },
  {
   "cell_type": "markdown",
   "metadata": {},
   "source": [
    "## Watson API"
   ]
  },
  {
   "cell_type": "code",
   "execution_count": 2,
   "metadata": {},
   "outputs": [
    {
     "name": "stdout",
     "output_type": "stream",
     "text": [
      "loading url https://adaptpartners.com/technical-seo/python-notebooks-connect-to-google-search-console-api-and-extract-data/\n",
      "Extracted 509 words.\n",
      "\n",
      " Entities:\n",
      "   count                                     disambiguation  relevance  \\\n",
      "0      9  {'subtype': ['AcademicInstitution', 'AwardPres...   0.876669   \n",
      "1      1                                                NaN   0.169787   \n",
      "\n",
      "              text     type  \n",
      "0           Google  Company  \n",
      "1  Dominic Woodman   Person  \n",
      "\n",
      " Keywords:\n",
      "    relevance                       text\n",
      "0    0.984217      Google Search Console\n",
      "1    0.715410  Google Developers Console\n",
      "2    0.653734         Search Console API\n",
      "3    0.573839        Search Console data\n",
      "4    0.562398         interesting things\n",
      "5    0.562259       new Oauth Credential\n",
      "6    0.528074            shows easy step\n",
      "7    0.474809           Python notebooks\n",
      "8    0.447963            Dominic Woodman\n",
      "9    0.443203                   easy way\n",
      "10   0.434548       detailed information\n",
      "11   0.426069          step instructions\n",
      "12   0.420550          verification code\n",
      "13   0.341544                       post\n",
      "14   0.338461                        Moz\n",
      "15   0.325447                       type\n",
      "16   0.325374                      steps\n",
      "17   0.325252                credentials\n",
      "18   0.324879                  CLIENT_ID\n",
      "19   0.324861              CLIENT_SECRET\n",
      "20   0.323923                       page\n",
      "21   0.323567                    changes\n",
      "22   0.323496                   examples\n",
      "23   0.323422                       link\n",
      "24   0.323390                       time\n",
      "25   0.323376                   comments\n"
     ]
    }
   ],
   "source": [
    "url = 'https://adaptpartners.com/technical-seo/python-notebooks-connect-to-google-search-console-api-and-extract-data/'\n",
    "text, infos = extract_url_data(url)\n",
    "html = infos['html']\n",
    "\n",
    "print('\\n Entities:')\n",
    "print(watsonservice.watson_entities(html))\n",
    "\n",
    "print('\\n Keywords:')\n",
    "print(watsonservice.watson_keywords(html))"
   ]
  },
  {
   "cell_type": "markdown",
   "metadata": {},
   "source": [
    "## SEMRush"
   ]
  },
  {
   "cell_type": "code",
   "execution_count": 8,
   "metadata": {},
   "outputs": [
    {
     "data": {
      "text/html": [
       "<div>\n",
       "<style scoped>\n",
       "    .dataframe tbody tr th:only-of-type {\n",
       "        vertical-align: middle;\n",
       "    }\n",
       "\n",
       "    .dataframe tbody tr th {\n",
       "        vertical-align: top;\n",
       "    }\n",
       "\n",
       "    .dataframe thead th {\n",
       "        text-align: right;\n",
       "    }\n",
       "</style>\n",
       "<table border=\"1\" class=\"dataframe\">\n",
       "  <thead>\n",
       "    <tr style=\"text-align: right;\">\n",
       "      <th></th>\n",
       "      <th>Average vol.</th>\n",
       "      <th>CPC</th>\n",
       "      <th>Costs (%)</th>\n",
       "      <th>Keyword</th>\n",
       "      <th>Number of Results</th>\n",
       "      <th>Pos</th>\n",
       "      <th>Position Difference</th>\n",
       "      <th>Traffic (%)</th>\n",
       "      <th>Url</th>\n",
       "    </tr>\n",
       "  </thead>\n",
       "  <tbody>\n",
       "    <tr>\n",
       "      <th>0</th>\n",
       "      <td>20</td>\n",
       "      <td>2.00</td>\n",
       "      <td>13.23</td>\n",
       "      <td>wordpress filters tutorial</td>\n",
       "      <td>8420000</td>\n",
       "      <td>1</td>\n",
       "      <td>1</td>\n",
       "      <td>27.27</td>\n",
       "      <td>https://adaptpartners.com/wordpress/filters/</td>\n",
       "    </tr>\n",
       "    <tr>\n",
       "      <th>1</th>\n",
       "      <td>90</td>\n",
       "      <td>0.00</td>\n",
       "      <td>0.00</td>\n",
       "      <td>google analytics export</td>\n",
       "      <td>52300000</td>\n",
       "      <td>11</td>\n",
       "      <td>7</td>\n",
       "      <td>12.12</td>\n",
       "      <td>https://adaptpartners.com/technical-seo/how-to...</td>\n",
       "    </tr>\n",
       "    <tr>\n",
       "      <th>2</th>\n",
       "      <td>260</td>\n",
       "      <td>3.75</td>\n",
       "      <td>8.82</td>\n",
       "      <td>export google analytics data</td>\n",
       "      <td>62300000</td>\n",
       "      <td>12</td>\n",
       "      <td>5</td>\n",
       "      <td>9.09</td>\n",
       "      <td>https://adaptpartners.com/technical-seo/how-to...</td>\n",
       "    </tr>\n",
       "    <tr>\n",
       "      <th>3</th>\n",
       "      <td>50</td>\n",
       "      <td>0.00</td>\n",
       "      <td>0.00</td>\n",
       "      <td>google tag manager security risk</td>\n",
       "      <td>36200000</td>\n",
       "      <td>4</td>\n",
       "      <td>0</td>\n",
       "      <td>9.09</td>\n",
       "      <td>https://adaptpartners.com/technical-seo/advant...</td>\n",
       "    </tr>\n",
       "    <tr>\n",
       "      <th>4</th>\n",
       "      <td>110</td>\n",
       "      <td>0.19</td>\n",
       "      <td>0.00</td>\n",
       "      <td>robert padgett</td>\n",
       "      <td>4240000</td>\n",
       "      <td>10</td>\n",
       "      <td>25</td>\n",
       "      <td>9.09</td>\n",
       "      <td>https://adaptpartners.com/about-us/robert-padg...</td>\n",
       "    </tr>\n",
       "  </tbody>\n",
       "</table>\n",
       "</div>"
      ],
      "text/plain": [
       "  Average vol.   CPC Costs (%)                           Keyword  \\\n",
       "0           20  2.00     13.23        wordpress filters tutorial   \n",
       "1           90  0.00      0.00           google analytics export   \n",
       "2          260  3.75      8.82      export google analytics data   \n",
       "3           50  0.00      0.00  google tag manager security risk   \n",
       "4          110  0.19      0.00                    robert padgett   \n",
       "\n",
       "  Number of Results Pos Position Difference Traffic (%)  \\\n",
       "0           8420000   1                   1       27.27   \n",
       "1          52300000  11                   7       12.12   \n",
       "2          62300000  12                   5        9.09   \n",
       "3          36200000   4                   0        9.09   \n",
       "4           4240000  10                  25        9.09   \n",
       "\n",
       "                                                 Url  \n",
       "0       https://adaptpartners.com/wordpress/filters/  \n",
       "1  https://adaptpartners.com/technical-seo/how-to...  \n",
       "2  https://adaptpartners.com/technical-seo/how-to...  \n",
       "3  https://adaptpartners.com/technical-seo/advant...  \n",
       "4  https://adaptpartners.com/about-us/robert-padg...  "
      ]
     },
     "execution_count": 8,
     "metadata": {},
     "output_type": "execute_result"
    }
   ],
   "source": [
    "domain = 'adaptpartners.com'\n",
    "database = 'us'\n",
    "ranks = semrushservice.domain_organic(domain, database)\n",
    "ranks.head()"
   ]
  },
  {
   "cell_type": "markdown",
   "metadata": {},
   "source": [
    "## Google Analytics"
   ]
  },
  {
   "cell_type": "code",
   "execution_count": 7,
   "metadata": {},
   "outputs": [
    {
     "data": {
      "text/html": [
       "<div>\n",
       "<style scoped>\n",
       "    .dataframe tbody tr th:only-of-type {\n",
       "        vertical-align: middle;\n",
       "    }\n",
       "\n",
       "    .dataframe tbody tr th {\n",
       "        vertical-align: top;\n",
       "    }\n",
       "\n",
       "    .dataframe thead th {\n",
       "        text-align: right;\n",
       "    }\n",
       "</style>\n",
       "<table border=\"1\" class=\"dataframe\">\n",
       "  <thead>\n",
       "    <tr style=\"text-align: right;\">\n",
       "      <th></th>\n",
       "      <th>date</th>\n",
       "      <th>sessions</th>\n",
       "      <th>pageviews</th>\n",
       "    </tr>\n",
       "  </thead>\n",
       "  <tbody>\n",
       "    <tr>\n",
       "      <th>0</th>\n",
       "      <td>2018-11-07</td>\n",
       "      <td>59</td>\n",
       "      <td>88</td>\n",
       "    </tr>\n",
       "    <tr>\n",
       "      <th>1</th>\n",
       "      <td>2018-11-08</td>\n",
       "      <td>55</td>\n",
       "      <td>66</td>\n",
       "    </tr>\n",
       "    <tr>\n",
       "      <th>2</th>\n",
       "      <td>2018-11-09</td>\n",
       "      <td>38</td>\n",
       "      <td>46</td>\n",
       "    </tr>\n",
       "    <tr>\n",
       "      <th>3</th>\n",
       "      <td>2018-11-10</td>\n",
       "      <td>23</td>\n",
       "      <td>34</td>\n",
       "    </tr>\n",
       "    <tr>\n",
       "      <th>4</th>\n",
       "      <td>2018-11-11</td>\n",
       "      <td>22</td>\n",
       "      <td>27</td>\n",
       "    </tr>\n",
       "  </tbody>\n",
       "</table>\n",
       "</div>"
      ],
      "text/plain": [
       "         date  sessions  pageviews\n",
       "0  2018-11-07        59         88\n",
       "1  2018-11-08        55         66\n",
       "2  2018-11-09        38         46\n",
       "3  2018-11-10        23         34\n",
       "4  2018-11-11        22         27"
      ]
     },
     "execution_count": 7,
     "metadata": {},
     "output_type": "execute_result"
    }
   ],
   "source": [
    "ga = gaservice\n",
    "\n",
    "ga_account = \"Adapt Partners\" \n",
    "ga_webproperty = \"Adapt Partners\" \n",
    "ga_profile = \"Adapt Partners\"\n",
    "\n",
    "profile = gaservice.get_profile(account=ga_account, webproperty=ga_webproperty, profile=ga_profile )\n",
    "query = profile.core.query.daily(days=-5)\n",
    "query.metrics('sessions', 'pageviews').as_dataframe()\n"
   ]
  },
  {
   "cell_type": "markdown",
   "metadata": {},
   "source": [
    "# Dataset"
   ]
  },
  {
   "cell_type": "code",
   "execution_count": 9,
   "metadata": {},
   "outputs": [
    {
     "name": "stdout",
     "output_type": "stream",
     "text": [
      "Reloading Existing: data/demo2.csv\n",
      "# training samples: 6115\n",
      "# batches: 191\n"
     ]
    }
   ],
   "source": [
    "import dataset\n",
    "\n",
    "gsc_property = 'https://adaptpartners.com'\n",
    "days_back = 30\n",
    "\n",
    "df = gscservice.get_site_data(gsc_property, days_back, output_fn=\"demo2.csv\")\n",
    "df.head()\n",
    "\n",
    "features = df[['position','impressions']]\n",
    "labels = df[['clicks']]\n",
    "\n",
    "data_loader = dataset.load_pandas(features, labels, batch_size=32, shuffle=True, drop_last=True)"
   ]
  }
 ],
 "metadata": {
  "kernelspec": {
   "display_name": "Python [conda env:Pytorch]",
   "language": "python",
   "name": "conda-env-Pytorch-py"
  },
  "language_info": {
   "codemirror_mode": {
    "name": "ipython",
    "version": 3
   },
   "file_extension": ".py",
   "mimetype": "text/x-python",
   "name": "python",
   "nbconvert_exporter": "python",
   "pygments_lexer": "ipython3",
   "version": "3.6.5"
  }
 },
 "nbformat": 4,
 "nbformat_minor": 2
}

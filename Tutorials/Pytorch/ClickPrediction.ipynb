{
 "cells": [
  {
   "cell_type": "markdown",
   "metadata": {},
   "source": [
    "## Click Prediction\n",
    "\n",
    "This is a toy demo to show the overall process. This should not be expected to product accurate click predictions."
   ]
  },
  {
   "cell_type": "code",
   "execution_count": 1,
   "metadata": {},
   "outputs": [],
   "source": [
    "import pandas as pd\n",
    "import torch\n",
    "import torch.nn as nn\n",
    "from torch.autograd import Variable\n",
    "import matplotlib.pyplot as plt\n",
    "%matplotlib inline\n",
    "from sklearn.metrics import accuracy_score, confusion_matrix\n",
    "\n",
    "\n",
    "import sys\n",
    "sys.path.insert(0,'../..')\n",
    "\n",
    "from api import *"
   ]
  },
  {
   "cell_type": "markdown",
   "metadata": {},
   "source": [
    "## Services available:\n",
    "\n",
    "* gscservice: Google Search Console\n",
    "* gaservice: Google Analytics.  A wrapper around https://github.com/debrouwere/google-analytics.\n",
    "* semrushservice: SEM Rush. A port of https://github.com/storerjeremy/python-semrush.\n",
    "* watsonservice: IBM Watson API.  Pulls keywords and entities for a given html"
   ]
  },
  {
   "cell_type": "markdown",
   "metadata": {},
   "source": [
    "## 1) Get GSC Data"
   ]
  },
  {
   "cell_type": "code",
   "execution_count": 58,
   "metadata": {},
   "outputs": [
    {
     "name": "stdout",
     "output_type": "stream",
     "text": [
      "Reloading Existing: demo3.csv\n"
     ]
    },
    {
     "data": {
      "text/plain": [
       "(2055, 6)"
      ]
     },
     "execution_count": 58,
     "metadata": {},
     "output_type": "execute_result"
    }
   ],
   "source": [
    "gsc_profile = 'https://www.domain.com'\n",
    "days_back = 180\n",
    "\n",
    "# Combine the dataframe by nquery and page.\n",
    "def combine_gsc(df):\n",
    "    \n",
    "    df = df.groupby(['query'], as_index=False).agg({\"impressions\": \"sum\",\"clicks\":\"sum\",\"position\": \"mean\"})\n",
    "        \n",
    "    df['ctr'] = df['clicks']/df['impressions']\n",
    "    df['position'] = df['position'].astype(int)\n",
    "    df = df.round({'ctr': 2})\n",
    "    return df\n",
    "\n",
    "df = gscservice.get_site_data(gsc_profile, days_back, output_fn=\"demo3.csv\")\n",
    "\n",
    "df = combine_gsc(df).reset_index()\n",
    "#Reduce to top queries by clicks\n",
    "df = df[df.clicks > 5]\n",
    "df.shape"
   ]
  },
  {
   "cell_type": "markdown",
   "metadata": {},
   "source": [
    "## 2) Set Up DataLoader"
   ]
  },
  {
   "cell_type": "code",
   "execution_count": null,
   "metadata": {},
   "outputs": [],
   "source": [
    "import dataset\n",
    "\n",
    "features = df[['position','impressions']]\n",
    "labels = df[['clicks']]\n",
    "\n",
    "def apply_embed(row):\n",
    "    embed = row['embedding']\n",
    "    for i, e in enumerate(embed):\n",
    "        row['e_'+str(i)] = e\n",
    "    return row\n",
    "\n",
    "data_loader_bert, df_bert = dataset.load_bert_df(input_df=df, input_row=\"query\")\n",
    "df_bert_embed = df_bert.apply(apply_embed,axis=1).drop(columns=['embedding','linex_index','tokens'])\n",
    "\n",
    "features = pd.concat([features.reset_index(drop =True), df_bert_embed.reset_index(drop =True)], axis=1)\n",
    "\n",
    "data_loader = dataset.load_pandas(features, labels, batch_size=32, shuffle=True, drop_last=True)"
   ]
  },
  {
   "cell_type": "markdown",
   "metadata": {},
   "source": [
    "## 3) Set up Model"
   ]
  },
  {
   "cell_type": "code",
   "execution_count": 70,
   "metadata": {},
   "outputs": [],
   "source": [
    "torch.manual_seed(123)\n",
    "\n",
    "# Make it\n",
    "model = torch.nn.Sequential(\n",
    "    torch.nn.Linear(770, 100),\n",
    "    torch.nn.ReLU(),\n",
    "    torch.nn.Linear(100, 1),\n",
    ")\n",
    "\n",
    "# Optimizing options\n",
    "loss_function =  nn.MSELoss()\n",
    "\n",
    "optimizer = torch.optim.Adam(model.parameters(), lr = 0.00001)\n",
    "#optimizer = torch.optim.SGD(model.parameters(), lr=0.0001)\n",
    "\n",
    "# Number of Epochs\n",
    "n_epochs = 500"
   ]
  },
  {
   "cell_type": "markdown",
   "metadata": {},
   "source": [
    "## 4) Train"
   ]
  },
  {
   "cell_type": "code",
   "execution_count": 71,
   "metadata": {},
   "outputs": [
    {
     "data": {
      "image/png": "[encoded data removed]",
      "text/plain": [
       "<Figure size 432x288 with 1 Axes>"
      ]
     },
     "metadata": {
      "needs_background": "light"
     },
     "output_type": "display_data"
    },
    {
     "data": {
      "image/png": "[encoded data removed]",
      "text/plain": [
       "<Figure size 432x288 with 1 Axes>"
      ]
     },
     "metadata": {
      "needs_background": "light"
     },
     "output_type": "display_data"
    }
   ],
   "source": [
    "\n",
    "loss_list  = []\n",
    "\n",
    "for epoch in range(n_epochs):\n",
    "    \n",
    "    epoch +=1\n",
    "    \n",
    "    epoch_loss = 0\n",
    "    optimizer.zero_grad()\n",
    "    \n",
    "    for x, y in data_loader:\n",
    "        \n",
    "        p_y = model(x)\n",
    "        \n",
    "        loss = loss_function(p_y, y)\n",
    "        loss.backward()\n",
    "        optimizer.step()\n",
    "        \n",
    "        epoch_loss += loss.data[0]\n",
    "        \n",
    "    #print('epoch {}, loss {}'.format(epoch,epoch_loss))\n",
    "    loss_list.append(epoch_loss)\n",
    "    \n",
    "\n",
    "x_train = data_loader.dataset.tensors[0]\n",
    "predicted =model(x_train).data.numpy()\n",
    "y_correct = data_loader.dataset.tensors[1].data.numpy()\n",
    "\n",
    "\n",
    "plt.plot(y_correct, label = 'from data', alpha = .5)\n",
    "plt.plot(predicted, label = 'prediction', alpha = 0.5)\n",
    "plt.legend()\n",
    "plt.show()\n",
    "#print(model.state_dict())\n",
    "\n",
    "plt.plot(loss_list, label = 'train')\n",
    "plt.legend();"
   ]
  },
  {
   "cell_type": "code",
   "execution_count": null,
   "metadata": {},
   "outputs": [],
   "source": []
  },
  {
   "cell_type": "code",
   "execution_count": null,
   "metadata": {},
   "outputs": [],
   "source": [
    "predictions = [{'pred': float(x[0]), 'act':float(act_list[i][0])} for i, x in enumerate(pred_list)]"
   ]
  },
  {
   "cell_type": "code",
   "execution_count": null,
   "metadata": {},
   "outputs": [],
   "source": [
    "# Click predictions vs actual if prediction >= 10. \n",
    "predictions"
   ]
  }
 ],
 "metadata": {
  "kernelspec": {
   "display_name": "Python [conda env:Pytorch]",
   "language": "python",
   "name": "conda-env-Pytorch-py"
  },
  "language_info": {
   "codemirror_mode": {
    "name": "ipython",
    "version": 3
   },
   "file_extension": ".py",
   "mimetype": "text/x-python",
   "name": "python",
   "nbconvert_exporter": "python",
   "pygments_lexer": "ipython3",
   "version": "3.6.6"
  }
 },
 "nbformat": 4,
 "nbformat_minor": 2
}

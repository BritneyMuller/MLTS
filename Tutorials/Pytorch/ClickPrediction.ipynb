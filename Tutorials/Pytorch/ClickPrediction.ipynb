{
 "cells": [
  {
   "cell_type": "code",
   "execution_count": 8,
   "metadata": {},
   "outputs": [],
   "source": [
    "import pandas as pd\n",
    "import torch\n",
    "import torch.nn as nn\n",
    "from torch.autograd import Variable\n",
    "import matplotlib.pyplot as plt\n",
    "%matplotlib inline\n",
    "from sklearn.metrics import accuracy_score, confusion_matrix\n",
    "\n",
    "\n",
    "import sys\n",
    "sys.path.insert(0,'../..')\n",
    "\n",
    "from api import *"
   ]
  },
  {
   "cell_type": "markdown",
   "metadata": {},
   "source": [
    "## 1) Get GSC Data"
   ]
  },
  {
   "cell_type": "code",
   "execution_count": null,
   "metadata": {},
   "outputs": [],
   "source": [
    "gsc_profile = 'https://www.domain.com'\n",
    "days_back = 180\n",
    "df = gscservice.get_site_data(gsc_profile, days_back, output_fn=\"demo3.csv\")\n",
    "df.head()"
   ]
  },
  {
   "cell_type": "markdown",
   "metadata": {},
   "source": [
    "## 2) Set Up DataLoader"
   ]
  },
  {
   "cell_type": "code",
   "execution_count": 112,
   "metadata": {},
   "outputs": [
    {
     "name": "stdout",
     "output_type": "stream",
     "text": [
      "# training samples: 1451603\n",
      "# batches: 45362\n"
     ]
    }
   ],
   "source": [
    "import dataset\n",
    "\n",
    "features = df[['position','impressions']]\n",
    "labels = df[['clicks']]\n",
    "\n",
    "data_loader = dataset.load_pandas(features, labels, batch_size=32, shuffle=True, drop_last=True)"
   ]
  },
  {
   "cell_type": "markdown",
   "metadata": {},
   "source": [
    "## 3) Set up Model"
   ]
  },
  {
   "cell_type": "code",
   "execution_count": 123,
   "metadata": {},
   "outputs": [],
   "source": [
    "torch.manual_seed(123)\n",
    "\n",
    "class Neuralnetwork(nn.Module):\n",
    "    def __init__(self, in_dim, n_hidden_1, n_hidden_2, out_dim):\n",
    "        super(Neuralnetwork, self).__init__()\n",
    "        self.layer1 = nn.Linear(in_dim, n_hidden_1)\n",
    "        self.layer2 = nn.Linear(n_hidden_1, n_hidden_2)\n",
    "        self.layer3 = nn.Linear(n_hidden_2, out_dim)\n",
    "    def forward(self, x):\n",
    "        x = self.layer1(x)\n",
    "        x = self.layer2(x)\n",
    "        x = self.layer3(x)\n",
    "        return x\n",
    "\n",
    "\n",
    "# Make it\n",
    "model = Neuralnetwork(2, 32, 32, 1)\n",
    "\n",
    "# Optimizing options\n",
    "loss_function =  nn.MSELoss()\n",
    "optimizer = torch.optim.Adam(model.parameters(), lr = 0.002)\n",
    "\n",
    "# Number of Epochs\n",
    "n_epochs = 10"
   ]
  },
  {
   "cell_type": "markdown",
   "metadata": {},
   "source": [
    "## 4) Train"
   ]
  },
  {
   "cell_type": "code",
   "execution_count": 124,
   "metadata": {},
   "outputs": [],
   "source": [
    "loss_list  = []\n",
    "pred_list = []\n",
    "act_list = []\n",
    "\n",
    "for epoch in range(n_epochs):\n",
    "    for x, y in data_loader:\n",
    "        optimizer.zero_grad()\n",
    "        p_y = model(x)\n",
    "        loss = loss_function(p_y, y)\n",
    "        loss_list.append(loss.data.mean())\n",
    "        if (epoch+1) == n_epochs:\n",
    "            act_list.extend(y.data)\n",
    "            pred_list.extend(p_y.data)\n",
    "        loss.backward()\n",
    "        optimizer.step()"
   ]
  },
  {
   "cell_type": "code",
   "execution_count": 125,
   "metadata": {},
   "outputs": [
    {
     "data": {
      "image/png": "[encoded data removed]",
      "text/plain": [
       "<Figure size 432x288 with 1 Axes>"
      ]
     },
     "metadata": {
      "needs_background": "light"
     },
     "output_type": "display_data"
    }
   ],
   "source": [
    "plt.plot(loss_list, label = 'train')\n",
    "plt.legend();"
   ]
  },
  {
   "cell_type": "code",
   "execution_count": 126,
   "metadata": {},
   "outputs": [],
   "source": [
    "predictions = [{'pred': int(x[0]), 'act':int(act_list[i][0])} for i, x in enumerate(pred_list) if int(x[0]) >= 10]"
   ]
  },
  {
   "cell_type": "code",
   "execution_count": 127,
   "metadata": {},
   "outputs": [
    {
     "data": {
      "text/plain": [
       "[{'pred': 34, 'act': 0},\n",
       " {'pred': 14, 'act': 0},\n",
       " {'pred': 13, 'act': 4},\n",
       " {'pred': 14, 'act': 0},\n",
       " {'pred': 1016, 'act': 6},\n",
       " {'pred': 60, 'act': 0},\n",
       " {'pred': 74, 'act': 5},\n",
       " {'pred': 10, 'act': 0},\n",
       " {'pred': 2445, 'act': 43},\n",
       " {'pred': 13, 'act': 0},\n",
       " {'pred': 207, 'act': 7},\n",
       " {'pred': 21, 'act': 0},\n",
       " {'pred': 15, 'act': 0},\n",
       " {'pred': 827, 'act': 6},\n",
       " {'pred': 18, 'act': 0},\n",
       " {'pred': 10, 'act': 0},\n",
       " {'pred': 20, 'act': 0},\n",
       " {'pred': 87, 'act': 4},\n",
       " {'pred': 235, 'act': 4},\n",
       " {'pred': 11, 'act': 0},\n",
       " {'pred': 311, 'act': 0},\n",
       " {'pred': 539, 'act': 0},\n",
       " {'pred': 320, 'act': 1},\n",
       " {'pred': 2036, 'act': 38},\n",
       " {'pred': 13, 'act': 0},\n",
       " {'pred': 14, 'act': 0},\n",
       " {'pred': 13, 'act': 3},\n",
       " {'pred': 10, 'act': 0},\n",
       " {'pred': 725, 'act': 6},\n",
       " {'pred': 8175, 'act': 2},\n",
       " {'pred': 300, 'act': 1},\n",
       " {'pred': 131, 'act': 1},\n",
       " {'pred': 155, 'act': 6},\n",
       " {'pred': 94, 'act': 44},\n",
       " {'pred': 176, 'act': 7},\n",
       " {'pred': 38, 'act': 2},\n",
       " {'pred': 134, 'act': 1},\n",
       " {'pred': 21, 'act': 9},\n",
       " {'pred': 137, 'act': 2},\n",
       " {'pred': 40, 'act': 8},\n",
       " {'pred': 35, 'act': 5},\n",
       " {'pred': 70, 'act': 13},\n",
       " {'pred': 18, 'act': 4},\n",
       " {'pred': 13, 'act': 1},\n",
       " {'pred': 295, 'act': 8},\n",
       " {'pred': 23, 'act': 5},\n",
       " {'pred': 41, 'act': 13},\n",
       " {'pred': 24, 'act': 3},\n",
       " {'pred': 185, 'act': 45},\n",
       " {'pred': 44, 'act': 1},\n",
       " {'pred': 40, 'act': 2},\n",
       " {'pred': 78, 'act': 1},\n",
       " {'pred': 55, 'act': 1},\n",
       " {'pred': 126, 'act': 4},\n",
       " {'pred': 787, 'act': 9},\n",
       " {'pred': 22, 'act': 0},\n",
       " {'pred': 81, 'act': 1},\n",
       " {'pred': 32, 'act': 0},\n",
       " {'pred': 367, 'act': 22},\n",
       " {'pred': 382, 'act': 31},\n",
       " {'pred': 243, 'act': 1},\n",
       " {'pred': 1447, 'act': 4},\n",
       " {'pred': 267, 'act': 0},\n",
       " {'pred': 210, 'act': 1},\n",
       " {'pred': 158, 'act': 11},\n",
       " {'pred': 23, 'act': 0},\n",
       " {'pred': 20, 'act': 20},\n",
       " {'pred': 548, 'act': 11},\n",
       " {'pred': 721, 'act': 57},\n",
       " {'pred': 1001, 'act': 0},\n",
       " {'pred': 162, 'act': 1},\n",
       " {'pred': 49, 'act': 0},\n",
       " {'pred': 19, 'act': 0},\n",
       " {'pred': 20, 'act': 0},\n",
       " {'pred': 13, 'act': 1},\n",
       " {'pred': 318, 'act': 1},\n",
       " {'pred': 2775, 'act': 46},\n",
       " {'pred': 3253, 'act': 4},\n",
       " {'pred': 189, 'act': 9},\n",
       " {'pred': 824, 'act': 19},\n",
       " {'pred': 12, 'act': 0},\n",
       " {'pred': 13, 'act': 0},\n",
       " {'pred': 4251, 'act': 3},\n",
       " {'pred': 27, 'act': 0},\n",
       " {'pred': 30, 'act': 0},\n",
       " {'pred': 74, 'act': 0},\n",
       " {'pred': 18, 'act': 2},\n",
       " {'pred': 781, 'act': 41},\n",
       " {'pred': 467, 'act': 47},\n",
       " {'pred': 614, 'act': 3},\n",
       " {'pred': 26, 'act': 14},\n",
       " {'pred': 181, 'act': 51},\n",
       " {'pred': 20, 'act': 3},\n",
       " {'pred': 11, 'act': 0},\n",
       " {'pred': 204, 'act': 44},\n",
       " {'pred': 734, 'act': 3},\n",
       " {'pred': 43, 'act': 0},\n",
       " {'pred': 83, 'act': 0},\n",
       " {'pred': 42, 'act': 0},\n",
       " {'pred': 625, 'act': 1},\n",
       " {'pred': 69, 'act': 7},\n",
       " {'pred': 44, 'act': 5},\n",
       " {'pred': 10, 'act': 0},\n",
       " {'pred': 986, 'act': 24},\n",
       " {'pred': 27, 'act': 0},\n",
       " {'pred': 10, 'act': 0},\n",
       " {'pred': 11, 'act': 1},\n",
       " {'pred': 39, 'act': 0},\n",
       " {'pred': 14, 'act': 1},\n",
       " {'pred': 46, 'act': 0},\n",
       " {'pred': 1875, 'act': 12},\n",
       " {'pred': 34, 'act': 102},\n",
       " {'pred': 12, 'act': 0},\n",
       " {'pred': 323, 'act': 1},\n",
       " {'pred': 10, 'act': 0},\n",
       " {'pred': 14, 'act': 1},\n",
       " {'pred': 2042, 'act': 20},\n",
       " {'pred': 294, 'act': 4},\n",
       " {'pred': 317, 'act': 4},\n",
       " {'pred': 737, 'act': 6},\n",
       " {'pred': 377, 'act': 12},\n",
       " {'pred': 32, 'act': 3},\n",
       " {'pred': 31, 'act': 3},\n",
       " {'pred': 40, 'act': 6},\n",
       " {'pred': 119, 'act': 0},\n",
       " {'pred': 17, 'act': 0},\n",
       " {'pred': 33, 'act': 1},\n",
       " {'pred': 180, 'act': 16},\n",
       " {'pred': 32, 'act': 2},\n",
       " {'pred': 12, 'act': 11},\n",
       " {'pred': 34, 'act': 12},\n",
       " {'pred': 80, 'act': 2},\n",
       " {'pred': 58, 'act': 5},\n",
       " {'pred': 159, 'act': 5},\n",
       " {'pred': 106, 'act': 5},\n",
       " {'pred': 27, 'act': 0},\n",
       " {'pred': 12, 'act': 0},\n",
       " {'pred': 10, 'act': 1},\n",
       " {'pred': 12, 'act': 0},\n",
       " {'pred': 10, 'act': 0},\n",
       " {'pred': 27, 'act': 75},\n",
       " {'pred': 14, 'act': 0},\n",
       " {'pred': 12, 'act': 2},\n",
       " {'pred': 19, 'act': 0},\n",
       " {'pred': 12, 'act': 0},\n",
       " {'pred': 12, 'act': 0},\n",
       " {'pred': 18, 'act': 0},\n",
       " {'pred': 12, 'act': 1},\n",
       " {'pred': 16, 'act': 2},\n",
       " {'pred': 69, 'act': 0},\n",
       " {'pred': 10, 'act': 0},\n",
       " {'pred': 13, 'act': 0},\n",
       " {'pred': 26, 'act': 0},\n",
       " {'pred': 26, 'act': 0},\n",
       " {'pred': 19, 'act': 2},\n",
       " {'pred': 16, 'act': 0},\n",
       " {'pred': 9457, 'act': 45}]"
      ]
     },
     "execution_count": 127,
     "metadata": {},
     "output_type": "execute_result"
    }
   ],
   "source": [
    "# Click predictions vs actual if prediction >= 10\n",
    "predictions"
   ]
  }
 ],
 "metadata": {
  "kernelspec": {
   "display_name": "Python [conda env:Pytorch]",
   "language": "python",
   "name": "conda-env-Pytorch-py"
  },
  "language_info": {
   "codemirror_mode": {
    "name": "ipython",
    "version": 3
   },
   "file_extension": ".py",
   "mimetype": "text/x-python",
   "name": "python",
   "nbconvert_exporter": "python",
   "pygments_lexer": "ipython3",
   "version": "3.6.6"
  }
 },
 "nbformat": 4,
 "nbformat_minor": 2
}
